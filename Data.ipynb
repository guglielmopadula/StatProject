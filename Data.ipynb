{
 "cells": [
  {
   "cell_type": "code",
   "execution_count": 1,
   "metadata": {},
   "outputs": [],
   "source": [
    "data<-read.csv(\"https://raw.githubusercontent.com/pcm-dpc/COVID-19/master/dati-regioni/dpc-covid19-ita-regioni.csv\")\n",
    "data<-data[data$denominazione_regione==\"Toscana\",]\n",
    "data<-data[,colSums(is.na(data))==0]\n",
    "data<-data[,-c(2,3,4,5,6)]\n",
    "data<-data[,-c(13:17)]\n",
    "data<-data[,-c(1,2)]\n",
    "datatrain<-data[221:344,]\n",
    "datatest<-data[345:358,]\n",
    "#data train is for training the model\n",
    "#data test is for predictions\n"
   ]
  },
  {
   "cell_type": "code",
   "execution_count": null,
   "metadata": {},
   "outputs": [],
   "source": []
  }
 ],
 "metadata": {
  "kernelspec": {
   "display_name": "R",
   "language": "R",
   "name": "ir"
  },
  "language_info": {
   "codemirror_mode": "r",
   "file_extension": ".r",
   "mimetype": "text/x-r-source",
   "name": "R",
   "pygments_lexer": "r",
   "version": "4.1.2"
  }
 },
 "nbformat": 4,
 "nbformat_minor": 4
}
