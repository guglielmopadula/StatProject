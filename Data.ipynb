{
 "cells": [
  {
   "cell_type": "code",
   "execution_count": 1,
   "metadata": {},
   "outputs": [
    {
     "ename": "ERROR",
     "evalue": "Error in library(\"dplyr\"): non c'è alcun pacchetto chiamato ‘dplyr’\n",
     "output_type": "error",
     "traceback": [
      "Error in library(\"dplyr\"): non c'è alcun pacchetto chiamato ‘dplyr’\nTraceback:\n",
      "1. library(\"dplyr\")"
     ]
    }
   ],
   "source": [
    "data<-read.csv(\"https://raw.githubusercontent.com/pcm-dpc/COVID-19/master/dati-regioni/dpc-covid19-ita-regioni.csv\")\n",
    "data<-data[data$denominazione_regione==\"Toscana\",]\n",
    "data<-data[,colSums(is.na(data))==0]\n",
    "data<-data[,-c(2,3,4,5,6)]\n",
    "data<-data[,-c(13:17)]\n",
    "data<-data[,-1]\n",
    "data<-data[,-c(1,4,5,9:11)]\n",
    "data<-data[221:358,]\n",
    "data1=data\n",
    "data1[56:124,]=0\n",
    "data2=data\n",
    "# dati incrementali tolti\n",
    "\n",
    "\n",
    "data2[1:55,]=0\n",
    "nomi1=names(data1)\n",
    "nomi2=names(data2)\n",
    "for (i in 1:5){\n",
    "      nomi1[i]=paste(nomi1[i],'_inc',sep = \"\")\n",
    "      nomi2[i]=paste(nomi2[i],'_dec',sep = \"\")\n",
    "}\n",
    "names(data1)=nomi1\n",
    "names(data2)=nomi2\n",
    "library('dplyr')\n",
    "data=bind_cols(data1,data2,data)\n",
    "datatrain=data[1:124,]\n",
    "datatest=data[125:138,]\n"
   ]
  },
  {
   "cell_type": "code",
   "execution_count": null,
   "metadata": {},
   "outputs": [],
   "source": []
  }
 ],
 "metadata": {
  "kernelspec": {
   "display_name": "R",
   "language": "R",
   "name": "ir"
  },
  "language_info": {
   "codemirror_mode": "r",
   "file_extension": ".r",
   "mimetype": "text/x-r-source",
   "name": "R",
   "pygments_lexer": "r",
   "version": "4.1.2"
  }
 },
 "nbformat": 4,
 "nbformat_minor": 4
}
