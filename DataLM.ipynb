{
 "cells": [
  {
   "cell_type": "code",
   "execution_count": 1,
   "metadata": {},
   "outputs": [
    {
     "data": {
      "text/html": [
       "<style>\n",
       ".list-inline {list-style: none; margin:0; padding: 0}\n",
       ".list-inline>li {display: inline-block}\n",
       ".list-inline>li:not(:last-child)::after {content: \"\\00b7\"; padding: 0 .5ex}\n",
       "</style>\n",
       "<ol class=list-inline><li>'terapia_intensiva_dec'</li><li>'totale_ospedalizzati_dec'</li><li>'isolamento_domiciliare_dec'</li><li>'totale_positivi_dec'</li><li>'variazione_totale_positivi_dec'</li><li>'nuovi_positivi_dec'</li><li>'dimessi_guariti_dec'</li><li>'deceduti_dec'</li><li>'totale_casi_dec'</li><li>'tamponi_dec'</li></ol>\n"
      ],
      "text/latex": [
       "\\begin{enumerate*}\n",
       "\\item 'terapia\\_intensiva\\_dec'\n",
       "\\item 'totale\\_ospedalizzati\\_dec'\n",
       "\\item 'isolamento\\_domiciliare\\_dec'\n",
       "\\item 'totale\\_positivi\\_dec'\n",
       "\\item 'variazione\\_totale\\_positivi\\_dec'\n",
       "\\item 'nuovi\\_positivi\\_dec'\n",
       "\\item 'dimessi\\_guariti\\_dec'\n",
       "\\item 'deceduti\\_dec'\n",
       "\\item 'totale\\_casi\\_dec'\n",
       "\\item 'tamponi\\_dec'\n",
       "\\end{enumerate*}\n"
      ],
      "text/markdown": [
       "1. 'terapia_intensiva_dec'\n",
       "2. 'totale_ospedalizzati_dec'\n",
       "3. 'isolamento_domiciliare_dec'\n",
       "4. 'totale_positivi_dec'\n",
       "5. 'variazione_totale_positivi_dec'\n",
       "6. 'nuovi_positivi_dec'\n",
       "7. 'dimessi_guariti_dec'\n",
       "8. 'deceduti_dec'\n",
       "9. 'totale_casi_dec'\n",
       "10. 'tamponi_dec'\n",
       "\n",
       "\n"
      ],
      "text/plain": [
       " [1] \"terapia_intensiva_dec\"          \"totale_ospedalizzati_dec\"      \n",
       " [3] \"isolamento_domiciliare_dec\"     \"totale_positivi_dec\"           \n",
       " [5] \"variazione_totale_positivi_dec\" \"nuovi_positivi_dec\"            \n",
       " [7] \"dimessi_guariti_dec\"            \"deceduti_dec\"                  \n",
       " [9] \"totale_casi_dec\"                \"tamponi_dec\"                   "
      ]
     },
     "metadata": {},
     "output_type": "display_data"
    },
    {
     "ename": "ERROR",
     "evalue": "Error in library(\"dplyr\"): non c'è alcun pacchetto chiamato ‘dplyr’\n",
     "output_type": "error",
     "traceback": [
      "Error in library(\"dplyr\"): non c'è alcun pacchetto chiamato ‘dplyr’\nTraceback:\n",
      "1. library(\"dplyr\")"
     ]
    }
   ],
   "source": [
    "data<-read.csv(\"https://raw.githubusercontent.com/pcm-dpc/COVID-19/master/dati-regioni/dpc-covid19-ita-regioni.csv\")\n",
    "data<-data[data$denominazione_regione==\"Toscana\",]\n",
    "data<-data[,colSums(is.na(data))==0]\n",
    "data<-data[,-c(2,3,4,5,6)]\n",
    "data<-data[,-c(13:17)]\n",
    "data<-data[,-c(1,2)]\n",
    "data<-data[221:358,]\n",
    "data1=data\n",
    "data1[56:124,]=0\n",
    "data2=data\n",
    "data2[1:55,]=0\n",
    "nomi1=names(data1)\n",
    "nomi2=names(data2)\n",
    "for (i in 1:10){\n",
    "      nomi1[i]=paste(nomi1[i],'_inc',sep = \"\")\n",
    "      nomi2[i]=paste(nomi2[i],'_dec',sep = \"\")\n",
    "}\n",
    "names(data1)=nomi1\n",
    "names(data2)=nomi2\n",
    "nomi2\n",
    "library('dplyr')\n",
    "data=bind_cols(data1,data2,data)\n",
    "datatrain=data[1:124,]\n",
    "datatest=data[125:138,]\n",
    "datatrain\n"
   ]
  },
  {
   "cell_type": "code",
   "execution_count": null,
   "metadata": {},
   "outputs": [],
   "source": []
  }
 ],
 "metadata": {
  "kernelspec": {
   "display_name": "R",
   "language": "R",
   "name": "ir"
  },
  "language_info": {
   "codemirror_mode": "r",
   "file_extension": ".r",
   "mimetype": "text/x-r-source",
   "name": "R",
   "pygments_lexer": "r",
   "version": "4.1.2"
  }
 },
 "nbformat": 4,
 "nbformat_minor": 4
}
